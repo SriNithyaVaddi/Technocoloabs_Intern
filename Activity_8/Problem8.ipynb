{
 "cells": [
  {
   "cell_type": "code",
   "execution_count": 32,
   "metadata": {},
   "outputs": [],
   "source": [
    "from cryptonic import Model\n",
    "from cryptonic import CoinMarketCap\n",
    "from cryptonic.models import normalizations\n",
    "import pandas as pd\n",
    "import numpy as numpy\n",
    "from datetime import timedelta,datetime\n",
    "from tqdm import tqdm_notebook\n",
    "%matplotlib inline"
   ]
  },
  {
   "cell_type": "code",
   "execution_count": 33,
   "metadata": {},
   "outputs": [
    {
     "name": "stdout",
     "output_type": "stream",
     "text": [
      "\n",
      "\n",
      "        Crypto-currency data comes from the website CoinMarketCap.\n",
      "        CoinMarketCap is can be accessed at: https://coinmarketcap.com/\n",
      "\n",
      "        The permission to use the data is available on their FAQ\n",
      "\n",
      "            https://coinmarketcap.com/faq/\n",
      "\n",
      "        and reads:\n",
      "\n",
      "            \"Q: Am I allowed to use content (screenshots, data, graphs, etc.) \n",
      "            for one of my personal projects and/or commercial use?\n",
      "\n",
      "            R: Absolutely! Feel free to use any content as you see fit. \n",
      "            We kindly ask that you cite us as a source.\"\n",
      "        \n",
      "        \n"
     ]
    }
   ],
   "source": [
    "print(CoinMarketCap())"
   ]
  },
  {
   "cell_type": "code",
   "execution_count": 34,
   "metadata": {},
   "outputs": [
    {
     "data": {
      "text/html": [
       "<div>\n",
       "<style scoped>\n",
       "    .dataframe tbody tr th:only-of-type {\n",
       "        vertical-align: middle;\n",
       "    }\n",
       "\n",
       "    .dataframe tbody tr th {\n",
       "        vertical-align: top;\n",
       "    }\n",
       "\n",
       "    .dataframe thead th {\n",
       "        text-align: right;\n",
       "    }\n",
       "</style>\n",
       "<table border=\"1\" class=\"dataframe\">\n",
       "  <thead>\n",
       "    <tr style=\"text-align: right;\">\n",
       "      <th></th>\n",
       "      <th>Date</th>\n",
       "      <th>Open</th>\n",
       "      <th>High</th>\n",
       "      <th>Low</th>\n",
       "      <th>Close</th>\n",
       "      <th>Volume</th>\n",
       "      <th>Market Cap</th>\n",
       "    </tr>\n",
       "  </thead>\n",
       "  <tbody>\n",
       "    <tr>\n",
       "      <th>0</th>\n",
       "      <td>Feb 20, 2018</td>\n",
       "      <td>1543.27</td>\n",
       "      <td>1569.03</td>\n",
       "      <td>1414.35</td>\n",
       "      <td>1418.73</td>\n",
       "      <td>820,947,000</td>\n",
       "      <td>26,199,800,000</td>\n",
       "    </tr>\n",
       "    <tr>\n",
       "      <th>1</th>\n",
       "      <td>Feb 19, 2018</td>\n",
       "      <td>1483.34</td>\n",
       "      <td>1553.81</td>\n",
       "      <td>1483.34</td>\n",
       "      <td>1534.77</td>\n",
       "      <td>578,906,000</td>\n",
       "      <td>25,179,700,000</td>\n",
       "    </tr>\n",
       "    <tr>\n",
       "      <th>2</th>\n",
       "      <td>Feb 18, 2018</td>\n",
       "      <td>1552.10</td>\n",
       "      <td>1641.40</td>\n",
       "      <td>1428.49</td>\n",
       "      <td>1487.46</td>\n",
       "      <td>907,873,000</td>\n",
       "      <td>26,344,200,000</td>\n",
       "    </tr>\n",
       "    <tr>\n",
       "      <th>3</th>\n",
       "      <td>Feb 17, 2018</td>\n",
       "      <td>1548.48</td>\n",
       "      <td>1568.64</td>\n",
       "      <td>1517.14</td>\n",
       "      <td>1551.39</td>\n",
       "      <td>641,719,000</td>\n",
       "      <td>26,280,100,000</td>\n",
       "    </tr>\n",
       "    <tr>\n",
       "      <th>4</th>\n",
       "      <td>Feb 16, 2018</td>\n",
       "      <td>1373.16</td>\n",
       "      <td>1558.66</td>\n",
       "      <td>1369.68</td>\n",
       "      <td>1552.20</td>\n",
       "      <td>961,010,000</td>\n",
       "      <td>23,302,000,000</td>\n",
       "    </tr>\n",
       "  </tbody>\n",
       "</table>\n",
       "</div>"
      ],
      "text/plain": [
       "           Date     Open     High      Low    Close       Volume  \\\n",
       "0  Feb 20, 2018  1543.27  1569.03  1414.35  1418.73  820,947,000   \n",
       "1  Feb 19, 2018  1483.34  1553.81  1483.34  1534.77  578,906,000   \n",
       "2  Feb 18, 2018  1552.10  1641.40  1428.49  1487.46  907,873,000   \n",
       "3  Feb 17, 2018  1548.48  1568.64  1517.14  1551.39  641,719,000   \n",
       "4  Feb 16, 2018  1373.16  1558.66  1369.68  1552.20  961,010,000   \n",
       "\n",
       "       Market Cap  \n",
       "0  26,199,800,000  \n",
       "1  25,179,700,000  \n",
       "2  26,344,200,000  \n",
       "3  26,280,100,000  \n",
       "4  23,302,000,000  "
      ]
     },
     "execution_count": 34,
     "metadata": {},
     "output_type": "execute_result"
    }
   ],
   "source": [
    "data = pd.read_csv('bitcoin_cash_price.csv')\n",
    "data.head()"
   ]
  },
  {
   "cell_type": "code",
   "execution_count": 35,
   "metadata": {},
   "outputs": [],
   "source": [
    "data.columns= data.columns.str.lower()\n",
    "data['date'] = data['date'].apply(lambda x: datetime.strptime(x, '%b %d, %Y').strftime('%Y-%m-%d'))"
   ]
  },
  {
   "cell_type": "code",
   "execution_count": 36,
   "metadata": {},
   "outputs": [],
   "source": [
    "model_data = data[data['date']>= '2017-01-01']"
   ]
  },
  {
   "cell_type": "code",
   "execution_count": 37,
   "metadata": {},
   "outputs": [],
   "source": [
    "M = Model(data= model_data,variable='close',predicted_period_size=7)"
   ]
  },
  {
   "cell_type": "code",
   "execution_count": 38,
   "metadata": {},
   "outputs": [
    {
     "data": {
      "text/plain": [
       "<cryptonic.models.model.Model at 0x2d0a6119040>"
      ]
     },
     "execution_count": 38,
     "metadata": {},
     "output_type": "execute_result"
    }
   ],
   "source": [
    "M"
   ]
  },
  {
   "cell_type": "code",
   "execution_count": 39,
   "metadata": {},
   "outputs": [
    {
     "data": {
      "text/plain": [
       "<tensorflow.python.keras.engine.sequential.Sequential at 0x2d0a6119400>"
      ]
     },
     "execution_count": 39,
     "metadata": {},
     "output_type": "execute_result"
    }
   ],
   "source": [
    "M.build()"
   ]
  },
  {
   "cell_type": "code",
   "execution_count": 40,
   "metadata": {},
   "outputs": [
    {
     "data": {
      "text/plain": [
       "array([1469.1827, 1478.0405, 1438.771 , 1474.5562, 1352.7963, 1454.8617,\n",
       "       1437.2932], dtype=float32)"
      ]
     },
     "execution_count": 40,
     "metadata": {},
     "output_type": "execute_result"
    }
   ],
   "source": [
    "M.predict(denormalized=True)"
   ]
  },
  {
   "cell_type": "code",
   "execution_count": 41,
   "metadata": {},
   "outputs": [
    {
     "data": {
      "text/plain": [
       "{'mse': 0.01, 'rmse': 163.06, 'mape': 7.9}"
      ]
     },
     "execution_count": 41,
     "metadata": {},
     "output_type": "execute_result"
    }
   ],
   "source": [
    "M.evaluate()"
   ]
  },
  {
   "cell_type": "code",
   "execution_count": 42,
   "metadata": {},
   "outputs": [],
   "source": [
    "M.save('bitcoin_model_prod_v0.h5')"
   ]
  },
  {
   "cell_type": "code",
   "execution_count": 43,
   "metadata": {},
   "outputs": [],
   "source": [
    "M = Model(path='bitcoin_model_prod_v0.h5',data=model_data,variable='close',predicted_period_size=7)"
   ]
  },
  {
   "cell_type": "code",
   "execution_count": 44,
   "metadata": {},
   "outputs": [
    {
     "data": {
      "text/plain": [
       "array([1469.1827, 1478.0405, 1438.771 , 1474.5562, 1352.7963, 1454.8617,\n",
       "       1437.2932], dtype=float32)"
      ]
     },
     "execution_count": 44,
     "metadata": {},
     "output_type": "execute_result"
    }
   ],
   "source": [
    "M.predict(denormalized=True)"
   ]
  },
  {
   "cell_type": "code",
   "execution_count": 48,
   "metadata": {},
   "outputs": [],
   "source": [
    "M1 = Model(data=model_data[0*7:7*40 + 7],\n",
    "          variable='close',\n",
    "          predicted_period_size=7)"
   ]
  },
  {
   "cell_type": "code",
   "execution_count": 50,
   "metadata": {},
   "outputs": [
    {
     "data": {
      "text/plain": [
       "<tensorflow.python.keras.engine.sequential.Sequential at 0x2d0a5e82e50>"
      ]
     },
     "execution_count": 50,
     "metadata": {},
     "output_type": "execute_result"
    }
   ],
   "source": [
    "M1.build()"
   ]
  },
  {
   "cell_type": "code",
   "execution_count": 51,
   "metadata": {},
   "outputs": [
    {
     "data": {
      "text/plain": [
       "<tensorflow.python.keras.callbacks.History at 0x2d0a60d2f10>"
      ]
     },
     "execution_count": 51,
     "metadata": {},
     "output_type": "execute_result"
    }
   ],
   "source": [
    "M1.train()"
   ]
  },
  {
   "cell_type": "code",
   "execution_count": 96,
   "metadata": {},
   "outputs": [],
   "source": [
    "results = []\n",
    "for i in range(1,11):\n",
    "    M1.train(model_data[0*7:7*48 + 7])\n",
    "    results.append(M1.evaluate())"
   ]
  },
  {
   "cell_type": "code",
   "execution_count": 97,
   "metadata": {},
   "outputs": [
    {
     "name": "stdout",
     "output_type": "stream",
     "text": [
      "Week 41: {'mse': 0.0, 'rmse': 137.16, 'mape': 6.41}\n",
      "Week 42: {'mse': 0.0, 'rmse': 137.07, 'mape': 6.41}\n",
      "Week 43: {'mse': 0.0, 'rmse': 137.67, 'mape': 6.42}\n",
      "Week 44: {'mse': 0.0, 'rmse': 136.93, 'mape': 6.41}\n",
      "Week 45: {'mse': 0.0, 'rmse': 137.18, 'mape': 6.41}\n",
      "Week 46: {'mse': 0.0, 'rmse': 136.32, 'mape': 6.44}\n",
      "Week 47: {'mse': 0.0, 'rmse': 137.73, 'mape': 6.42}\n",
      "Week 48: {'mse': 0.0, 'rmse': 137.02, 'mape': 6.41}\n",
      "Week 49: {'mse': 0.0, 'rmse': 137.33, 'mape': 6.41}\n",
      "Week 50: {'mse': 0.0, 'rmse': 136.99, 'mape': 6.41}\n"
     ]
    }
   ],
   "source": [
    "for i, result in enumerate(results):\n",
    "    print(f'Week {40+i+1}: {result}')"
   ]
  },
  {
   "cell_type": "code",
   "execution_count": 85,
   "metadata": {},
   "outputs": [
    {
     "data": {
      "text/plain": [
       "array([1419.5465, 1097.5981, 1291.3864, 1437.2444, 1514.8063, 1438.3875,\n",
       "       1365.1937], dtype=float32)"
      ]
     },
     "execution_count": 85,
     "metadata": {},
     "output_type": "execute_result"
    }
   ],
   "source": [
    "M1.predict(denormalized=True)"
   ]
  },
  {
   "cell_type": "code",
   "execution_count": 86,
   "metadata": {},
   "outputs": [],
   "source": [
    "old_data = model_data[0*7:7*48 + 7]"
   ]
  },
  {
   "cell_type": "code",
   "execution_count": 87,
   "metadata": {},
   "outputs": [],
   "source": [
    "new_data = model_data[0*7:7*49 + 7]"
   ]
  },
  {
   "cell_type": "code",
   "execution_count": 88,
   "metadata": {},
   "outputs": [],
   "source": [
    "M2 = Model(data=old_data,\n",
    "          variable='close',\n",
    "          predicted_period_size=7)"
   ]
  },
  {
   "cell_type": "code",
   "execution_count": 89,
   "metadata": {},
   "outputs": [
    {
     "data": {
      "text/plain": [
       "<tensorflow.python.keras.callbacks.History at 0x2d0b35a9a90>"
      ]
     },
     "execution_count": 89,
     "metadata": {},
     "output_type": "execute_result"
    }
   ],
   "source": [
    "M2.build()\n",
    "M1.train()"
   ]
  },
  {
   "cell_type": "code",
   "execution_count": 90,
   "metadata": {},
   "outputs": [
    {
     "data": {
      "text/plain": [
       "array([1418.257 , 1429.23  , 1419.965 , 1433.0006, 1479.0697, 1398.4965,\n",
       "       1423.343 ], dtype=float32)"
      ]
     },
     "execution_count": 90,
     "metadata": {},
     "output_type": "execute_result"
    }
   ],
   "source": [
    "M2.predict(denormalized=True)"
   ]
  },
  {
   "cell_type": "code",
   "execution_count": 91,
   "metadata": {},
   "outputs": [],
   "source": [
    "M3 = Model(data=new_data,\n",
    "          variable='close',\n",
    "          predicted_period_size=7)"
   ]
  },
  {
   "cell_type": "code",
   "execution_count": 92,
   "metadata": {},
   "outputs": [
    {
     "data": {
      "text/plain": [
       "<tensorflow.python.keras.callbacks.History at 0x2d0b3743d00>"
      ]
     },
     "execution_count": 92,
     "metadata": {},
     "output_type": "execute_result"
    }
   ],
   "source": [
    "M3.build()\n",
    "M3.train()"
   ]
  },
  {
   "cell_type": "code",
   "execution_count": 93,
   "metadata": {},
   "outputs": [
    {
     "data": {
      "text/plain": [
       "array([1414.1393, 1107.0254, 1287.3068, 1438.5845, 1512.0979, 1435.444 ,\n",
       "       1363.9971], dtype=float32)"
      ]
     },
     "execution_count": 93,
     "metadata": {},
     "output_type": "execute_result"
    }
   ],
   "source": [
    "M3.predict(denormalized=True)"
   ]
  },
  {
   "cell_type": "code",
   "execution_count": null,
   "metadata": {},
   "outputs": [],
   "source": []
  }
 ],
 "metadata": {
  "kernelspec": {
   "display_name": "ml",
   "language": "python",
   "name": "myenv"
  },
  "language_info": {
   "codemirror_mode": {
    "name": "ipython",
    "version": 3
   },
   "file_extension": ".py",
   "mimetype": "text/x-python",
   "name": "python",
   "nbconvert_exporter": "python",
   "pygments_lexer": "ipython3",
   "version": "3.8.5"
  }
 },
 "nbformat": 4,
 "nbformat_minor": 4
}
