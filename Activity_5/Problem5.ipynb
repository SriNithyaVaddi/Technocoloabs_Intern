{
 "cells": [
  {
   "cell_type": "code",
   "execution_count": 1,
   "metadata": {},
   "outputs": [],
   "source": [
    "import numpy as np\n",
    "import pandas as pd\n",
    "import matplotlib.pyplot as plt\n",
    "%matplotlib inline\n",
    "plt.style.use('seaborn-white')\n",
    "\n",
    "from keras.models import load_model"
   ]
  },
  {
   "cell_type": "code",
   "execution_count": 2,
   "metadata": {},
   "outputs": [
    {
     "data": {
      "text/html": [
       "<div>\n",
       "<style scoped>\n",
       "    .dataframe tbody tr th:only-of-type {\n",
       "        vertical-align: middle;\n",
       "    }\n",
       "\n",
       "    .dataframe tbody tr th {\n",
       "        vertical-align: top;\n",
       "    }\n",
       "\n",
       "    .dataframe thead th {\n",
       "        text-align: right;\n",
       "    }\n",
       "</style>\n",
       "<table border=\"1\" class=\"dataframe\">\n",
       "  <thead>\n",
       "    <tr style=\"text-align: right;\">\n",
       "      <th></th>\n",
       "      <th>date</th>\n",
       "      <th>iso_week</th>\n",
       "      <th>open</th>\n",
       "      <th>high</th>\n",
       "      <th>low</th>\n",
       "      <th>close</th>\n",
       "      <th>volume</th>\n",
       "      <th>market_capitalization</th>\n",
       "      <th>close_point_relative_normalization</th>\n",
       "      <th>volume_point_relative_normalization</th>\n",
       "    </tr>\n",
       "  </thead>\n",
       "  <tbody>\n",
       "    <tr>\n",
       "      <th>0</th>\n",
       "      <td>2016-01-01</td>\n",
       "      <td>2016-00</td>\n",
       "      <td>430.72</td>\n",
       "      <td>436.25</td>\n",
       "      <td>427.51</td>\n",
       "      <td>434.33</td>\n",
       "      <td>36278900.0</td>\n",
       "      <td>6.473530e+09</td>\n",
       "      <td>0.000000</td>\n",
       "      <td>0.000000</td>\n",
       "    </tr>\n",
       "    <tr>\n",
       "      <th>1</th>\n",
       "      <td>2016-01-02</td>\n",
       "      <td>2016-00</td>\n",
       "      <td>434.62</td>\n",
       "      <td>436.06</td>\n",
       "      <td>431.87</td>\n",
       "      <td>433.44</td>\n",
       "      <td>30096600.0</td>\n",
       "      <td>6.533630e+09</td>\n",
       "      <td>-0.002049</td>\n",
       "      <td>-0.170410</td>\n",
       "    </tr>\n",
       "    <tr>\n",
       "      <th>2</th>\n",
       "      <td>2016-01-03</td>\n",
       "      <td>2016-01</td>\n",
       "      <td>433.58</td>\n",
       "      <td>433.74</td>\n",
       "      <td>424.71</td>\n",
       "      <td>430.01</td>\n",
       "      <td>39633800.0</td>\n",
       "      <td>6.519500e+09</td>\n",
       "      <td>0.000000</td>\n",
       "      <td>0.000000</td>\n",
       "    </tr>\n",
       "    <tr>\n",
       "      <th>3</th>\n",
       "      <td>2016-01-04</td>\n",
       "      <td>2016-01</td>\n",
       "      <td>430.06</td>\n",
       "      <td>434.52</td>\n",
       "      <td>429.08</td>\n",
       "      <td>433.09</td>\n",
       "      <td>38477500.0</td>\n",
       "      <td>6.468180e+09</td>\n",
       "      <td>0.007163</td>\n",
       "      <td>-0.029175</td>\n",
       "    </tr>\n",
       "    <tr>\n",
       "      <th>4</th>\n",
       "      <td>2016-01-05</td>\n",
       "      <td>2016-01</td>\n",
       "      <td>433.07</td>\n",
       "      <td>434.18</td>\n",
       "      <td>429.68</td>\n",
       "      <td>431.96</td>\n",
       "      <td>34522600.0</td>\n",
       "      <td>6.515380e+09</td>\n",
       "      <td>0.004535</td>\n",
       "      <td>-0.128961</td>\n",
       "    </tr>\n",
       "  </tbody>\n",
       "</table>\n",
       "</div>"
      ],
      "text/plain": [
       "         date iso_week    open    high     low   close      volume  \\\n",
       "0  2016-01-01  2016-00  430.72  436.25  427.51  434.33  36278900.0   \n",
       "1  2016-01-02  2016-00  434.62  436.06  431.87  433.44  30096600.0   \n",
       "2  2016-01-03  2016-01  433.58  433.74  424.71  430.01  39633800.0   \n",
       "3  2016-01-04  2016-01  430.06  434.52  429.08  433.09  38477500.0   \n",
       "4  2016-01-05  2016-01  433.07  434.18  429.68  431.96  34522600.0   \n",
       "\n",
       "   market_capitalization  close_point_relative_normalization  \\\n",
       "0           6.473530e+09                            0.000000   \n",
       "1           6.533630e+09                           -0.002049   \n",
       "2           6.519500e+09                            0.000000   \n",
       "3           6.468180e+09                            0.007163   \n",
       "4           6.515380e+09                            0.004535   \n",
       "\n",
       "   volume_point_relative_normalization  \n",
       "0                             0.000000  \n",
       "1                            -0.170410  \n",
       "2                             0.000000  \n",
       "3                            -0.029175  \n",
       "4                            -0.128961  "
      ]
     },
     "execution_count": 2,
     "metadata": {},
     "output_type": "execute_result"
    }
   ],
   "source": [
    "train = pd.read_csv('train_dataset.csv')\n",
    "train.head()"
   ]
  },
  {
   "cell_type": "code",
   "execution_count": 3,
   "metadata": {},
   "outputs": [],
   "source": [
    "def create_groups(data, group_size=7):\n",
    "    samples = []\n",
    "    for i in range(0, len(data), group_size):\n",
    "        sample = list(data[i:i + group_size])\n",
    "        if len(sample) == group_size:\n",
    "            samples.append(np.array(sample).reshape(1, group_size))\n",
    "    \n",
    "    return np.array(samples)"
   ]
  },
  {
   "cell_type": "code",
   "execution_count": 4,
   "metadata": {},
   "outputs": [
    {
     "data": {
      "text/plain": [
       "2"
      ]
     },
     "execution_count": 4,
     "metadata": {},
     "output_type": "execute_result"
    }
   ],
   "source": [
    "len(train) % 7"
   ]
  },
  {
   "cell_type": "code",
   "execution_count": 5,
   "metadata": {},
   "outputs": [
    {
     "name": "stdout",
     "output_type": "stream",
     "text": [
      "(77, 1, 7)\n"
     ]
    }
   ],
   "source": [
    "data = create_groups(train['close_point_relative_normalization'][2:].values)\n",
    "print(data.shape)"
   ]
  },
  {
   "cell_type": "code",
   "execution_count": 6,
   "metadata": {},
   "outputs": [
    {
     "name": "stdout",
     "output_type": "stream",
     "text": [
      "(1, 76, 7)\n",
      "(1, 7)\n"
     ]
    }
   ],
   "source": [
    "X_train = data[:-1, :].reshape(1, 76, 7)\n",
    "Y_validation = data[-1].reshape(1, 7)\n",
    "print(X_train.shape)\n",
    "print(Y_validation.shape)"
   ]
  },
  {
   "cell_type": "code",
   "execution_count": 7,
   "metadata": {},
   "outputs": [],
   "source": [
    "model = load_model('bitcoin_lstm_v0.h5')"
   ]
  },
  {
   "cell_type": "code",
   "execution_count": 8,
   "metadata": {},
   "outputs": [
    {
     "name": "stdout",
     "output_type": "stream",
     "text": [
      "Epoch 1/100\n",
      "1/1 [==============================] - 0s 2ms/step - loss: 0.0026\n",
      "Epoch 2/100\n",
      "1/1 [==============================] - 0s 4ms/step - loss: 0.0019\n",
      "Epoch 3/100\n",
      "1/1 [==============================] - 0s 997us/step - loss: 0.0016\n",
      "Epoch 4/100\n",
      "1/1 [==============================] - 0s 3ms/step - loss: 0.0013\n",
      "Epoch 5/100\n",
      "1/1 [==============================] - 0s 3ms/step - loss: 0.0011\n",
      "Epoch 6/100\n",
      "1/1 [==============================] - 0s 3ms/step - loss: 9.4879e-04\n",
      "Epoch 7/100\n",
      "1/1 [==============================] - 0s 2ms/step - loss: 8.0897e-04\n",
      "Epoch 8/100\n",
      "1/1 [==============================] - 0s 2ms/step - loss: 6.8591e-04\n",
      "Epoch 9/100\n",
      "1/1 [==============================] - 0s 2ms/step - loss: 5.7667e-04\n",
      "Epoch 10/100\n",
      "1/1 [==============================] - 0s 2ms/step - loss: 4.7957e-04\n",
      "Epoch 11/100\n",
      "1/1 [==============================] - 0s 2ms/step - loss: 3.9360e-04\n",
      "Epoch 12/100\n",
      "1/1 [==============================] - 0s 3ms/step - loss: 3.1814e-04\n",
      "Epoch 13/100\n",
      "1/1 [==============================] - 0s 2ms/step - loss: 2.5268e-04\n",
      "Epoch 14/100\n",
      "1/1 [==============================] - 0s 3ms/step - loss: 1.9683e-04\n",
      "Epoch 15/100\n",
      "1/1 [==============================] - 0s 2ms/step - loss: 1.5007e-04\n",
      "Epoch 16/100\n",
      "1/1 [==============================] - 0s 2ms/step - loss: 1.1186e-04\n",
      "Epoch 17/100\n",
      "1/1 [==============================] - 0s 4ms/step - loss: 8.1367e-05\n",
      "Epoch 18/100\n",
      "1/1 [==============================] - 0s 2ms/step - loss: 5.7702e-05\n",
      "Epoch 19/100\n",
      "1/1 [==============================] - 0s 3ms/step - loss: 3.9816e-05\n",
      "Epoch 20/100\n",
      "1/1 [==============================] - 0s 2ms/step - loss: 2.6793e-05\n",
      "Epoch 21/100\n",
      "1/1 [==============================] - 0s 2ms/step - loss: 1.7609e-05\n",
      "Epoch 22/100\n",
      "1/1 [==============================] - 0s 3ms/step - loss: 1.1378e-05\n",
      "Epoch 23/100\n",
      "1/1 [==============================] - 0s 3ms/step - loss: 7.2682e-06\n",
      "Epoch 24/100\n",
      "1/1 [==============================] - 0s 2ms/step - loss: 4.6494e-06\n",
      "Epoch 25/100\n",
      "1/1 [==============================] - 0s 3ms/step - loss: 3.0207e-06\n",
      "Epoch 26/100\n",
      "1/1 [==============================] - 0s 2ms/step - loss: 2.0445e-06\n",
      "Epoch 27/100\n",
      "1/1 [==============================] - 0s 2ms/step - loss: 1.4825e-06\n",
      "Epoch 28/100\n",
      "1/1 [==============================] - 0s 2ms/step - loss: 1.1710e-06\n",
      "Epoch 29/100\n",
      "1/1 [==============================] - 0s 2ms/step - loss: 1.0130e-06\n",
      "Epoch 30/100\n",
      "1/1 [==============================] - 0s 997us/step - loss: 9.1584e-07\n",
      "Epoch 31/100\n",
      "1/1 [==============================] - 0s 2ms/step - loss: 8.6669e-07\n",
      "Epoch 32/100\n",
      "1/1 [==============================] - 0s 2ms/step - loss: 8.1236e-07\n",
      "Epoch 33/100\n",
      "1/1 [==============================] - 0s 2ms/step - loss: 7.9003e-07\n",
      "Epoch 34/100\n",
      "1/1 [==============================] - 0s 2ms/step - loss: 7.6191e-07\n",
      "Epoch 35/100\n",
      "1/1 [==============================] - 0s 3ms/step - loss: 7.7603e-07\n",
      "Epoch 36/100\n",
      "1/1 [==============================] - 0s 3ms/step - loss: 7.9586e-07\n",
      "Epoch 37/100\n",
      "1/1 [==============================] - 0s 998us/step - loss: 8.7347e-07\n",
      "Epoch 38/100\n",
      "1/1 [==============================] - 0s 2ms/step - loss: 9.7404e-07\n",
      "Epoch 39/100\n",
      "1/1 [==============================] - 0s 2ms/step - loss: 1.1719e-06\n",
      "Epoch 40/100\n",
      "1/1 [==============================] - 0s 2ms/step - loss: 1.4408e-06\n",
      "Epoch 41/100\n",
      "1/1 [==============================] - 0s 3ms/step - loss: 1.9160e-06\n",
      "Epoch 42/100\n",
      "1/1 [==============================] - 0s 2ms/step - loss: 2.5578e-06\n",
      "Epoch 43/100\n",
      "1/1 [==============================] - 0s 2ms/step - loss: 3.5024e-06\n",
      "Epoch 44/100\n",
      "1/1 [==============================] - 0s 2ms/step - loss: 4.4532e-06\n",
      "Epoch 45/100\n",
      "1/1 [==============================] - 0s 2ms/step - loss: 5.4310e-06\n",
      "Epoch 46/100\n",
      "1/1 [==============================] - 0s 2ms/step - loss: 5.6564e-06\n",
      "Epoch 47/100\n",
      "1/1 [==============================] - 0s 2ms/step - loss: 5.1240e-06\n",
      "Epoch 48/100\n",
      "1/1 [==============================] - 0s 2ms/step - loss: 4.1409e-06\n",
      "Epoch 49/100\n",
      "1/1 [==============================] - 0s 2ms/step - loss: 3.4587e-06\n",
      "Epoch 50/100\n",
      "1/1 [==============================] - 0s 997us/step - loss: 2.9261e-06\n",
      "Epoch 51/100\n",
      "1/1 [==============================] - 0s 998us/step - loss: 2.7468e-06\n",
      "Epoch 52/100\n",
      "1/1 [==============================] - 0s 2ms/step - loss: 2.6887e-06\n",
      "Epoch 53/100\n",
      "1/1 [==============================] - 0s 2ms/step - loss: 2.9662e-06\n",
      "Epoch 54/100\n",
      "1/1 [==============================] - 0s 3ms/step - loss: 3.4689e-06\n",
      "Epoch 55/100\n",
      "1/1 [==============================] - 0s 2ms/step - loss: 4.4655e-06\n",
      "Epoch 56/100\n",
      "1/1 [==============================] - 0s 2ms/step - loss: 5.2604e-06\n",
      "Epoch 57/100\n",
      "1/1 [==============================] - 0s 997us/step - loss: 5.6007e-06\n",
      "Epoch 58/100\n",
      "1/1 [==============================] - 0s 996us/step - loss: 5.2189e-06\n",
      "Epoch 59/100\n",
      "1/1 [==============================] - 0s 2ms/step - loss: 4.8119e-06\n",
      "Epoch 60/100\n",
      "1/1 [==============================] - 0s 3ms/step - loss: 4.5349e-06\n",
      "Epoch 61/100\n",
      "1/1 [==============================] - 0s 2ms/step - loss: 4.6597e-06\n",
      "Epoch 62/100\n",
      "1/1 [==============================] - 0s 2ms/step - loss: 4.9036e-06\n",
      "Epoch 63/100\n",
      "1/1 [==============================] - 0s 2ms/step - loss: 5.4761e-06\n",
      "Epoch 64/100\n",
      "1/1 [==============================] - 0s 2ms/step - loss: 5.9097e-06\n",
      "Epoch 65/100\n",
      "1/1 [==============================] - 0s 997us/step - loss: 6.8101e-06\n",
      "Epoch 66/100\n",
      "1/1 [==============================] - 0s 2ms/step - loss: 7.2535e-06\n",
      "Epoch 67/100\n",
      "1/1 [==============================] - 0s 2ms/step - loss: 7.6529e-06\n",
      "Epoch 68/100\n",
      "1/1 [==============================] - 0s 996us/step - loss: 6.4888e-06\n",
      "Epoch 69/100\n",
      "1/1 [==============================] - 0s 2ms/step - loss: 5.5472e-06\n",
      "Epoch 70/100\n",
      "1/1 [==============================] - 0s 2ms/step - loss: 4.2442e-06\n",
      "Epoch 71/100\n",
      "1/1 [==============================] - 0s 2ms/step - loss: 3.6203e-06\n",
      "Epoch 72/100\n",
      "1/1 [==============================] - 0s 1ms/step - loss: 3.0966e-06\n",
      "Epoch 73/100\n",
      "1/1 [==============================] - 0s 2ms/step - loss: 3.0597e-06\n",
      "Epoch 74/100\n",
      "1/1 [==============================] - 0s 2ms/step - loss: 3.1391e-06\n",
      "Epoch 75/100\n",
      "1/1 [==============================] - 0s 990us/step - loss: 3.6551e-06\n",
      "Epoch 76/100\n",
      "1/1 [==============================] - 0s 1ms/step - loss: 4.2724e-06\n",
      "Epoch 77/100\n",
      "1/1 [==============================] - 0s 2ms/step - loss: 5.3453e-06\n",
      "Epoch 78/100\n",
      "1/1 [==============================] - 0s 1ms/step - loss: 6.1515e-06\n",
      "Epoch 79/100\n",
      "1/1 [==============================] - 0s 1ms/step - loss: 7.0764e-06\n",
      "Epoch 80/100\n",
      "1/1 [==============================] - 0s 2ms/step - loss: 6.9726e-06\n",
      "Epoch 81/100\n",
      "1/1 [==============================] - 0s 2ms/step - loss: 6.9167e-06\n",
      "Epoch 82/100\n",
      "1/1 [==============================] - 0s 2ms/step - loss: 6.1107e-06\n",
      "Epoch 83/100\n",
      "1/1 [==============================] - 0s 2ms/step - loss: 5.7205e-06\n",
      "Epoch 84/100\n",
      "1/1 [==============================] - 0s 3ms/step - loss: 4.9945e-06\n",
      "Epoch 85/100\n",
      "1/1 [==============================] - 0s 2ms/step - loss: 4.6020e-06\n",
      "Epoch 86/100\n",
      "1/1 [==============================] - 0s 1000us/step - loss: 4.2612e-06\n",
      "Epoch 87/100\n",
      "1/1 [==============================] - 0s 1ms/step - loss: 4.1430e-06\n",
      "Epoch 88/100\n",
      "1/1 [==============================] - 0s 2ms/step - loss: 3.8899e-06\n",
      "Epoch 89/100\n",
      "1/1 [==============================] - 0s 2ms/step - loss: 3.5101e-06\n",
      "Epoch 90/100\n",
      "1/1 [==============================] - 0s 2ms/step - loss: 3.0808e-06\n",
      "Epoch 91/100\n",
      "1/1 [==============================] - 0s 2ms/step - loss: 2.7896e-06\n",
      "Epoch 92/100\n",
      "1/1 [==============================] - 0s 1ms/step - loss: 2.7654e-06\n",
      "Epoch 93/100\n",
      "1/1 [==============================] - 0s 2ms/step - loss: 3.1866e-06\n",
      "Epoch 94/100\n",
      "1/1 [==============================] - 0s 3ms/step - loss: 4.2538e-06\n",
      "Epoch 95/100\n",
      "1/1 [==============================] - 0s 1ms/step - loss: 6.3699e-06\n",
      "Epoch 96/100\n",
      "1/1 [==============================] - 0s 3ms/step - loss: 8.9769e-06\n",
      "Epoch 97/100\n",
      "1/1 [==============================] - 0s 983us/step - loss: 1.1277e-05\n",
      "Epoch 98/100\n",
      "1/1 [==============================] - 0s 2ms/step - loss: 1.0655e-05\n",
      "Epoch 99/100\n"
     ]
    },
    {
     "name": "stdout",
     "output_type": "stream",
     "text": [
      "1/1 [==============================] - 0s 2ms/step - loss: 9.2524e-06\n",
      "Epoch 100/100\n",
      "1/1 [==============================] - 0s 2ms/step - loss: 6.2713e-06\n",
      "Wall time: 5.34 s\n"
     ]
    }
   ],
   "source": [
    "%%time\n",
    "#  Train the model\n",
    "history = model.fit(\n",
    "    x=X_train, y=Y_validation,\n",
    "    batch_size=32, epochs=100)"
   ]
  },
  {
   "cell_type": "code",
   "execution_count": 9,
   "metadata": {},
   "outputs": [
    {
     "data": {
      "image/png": "[encoded data removed]",
      "text/plain": [
       "<Figure size 1008x288 with 1 Axes>"
      ]
     },
     "metadata": {},
     "output_type": "display_data"
    }
   ],
   "source": [
    "pd.Series(history.history['loss']).plot(figsize=(14, 4));"
   ]
  },
  {
   "cell_type": "code",
   "execution_count": 10,
   "metadata": {},
   "outputs": [
    {
     "data": {
      "text/plain": [
       "array([-0.00108575,  0.01797428,  0.07015423,  0.05762846,  0.05892186,\n",
       "        0.07416938,  0.02269172], dtype=float32)"
      ]
     },
     "execution_count": 10,
     "metadata": {},
     "output_type": "execute_result"
    }
   ],
   "source": [
    "#  Make predictions using X_train data\n",
    "predictions = model.predict(x=X_train)[0]\n",
    "predictions"
   ]
  },
  {
   "cell_type": "code",
   "execution_count": 11,
   "metadata": {},
   "outputs": [],
   "source": [
    "def denormalize(series, last_value):\n",
    "    \"\"\"Denormalize the values for a given series.\n",
    "    \n",
    "    This uses the last value available (i.e. the last\n",
    "    closing price of the week before our prediction)\n",
    "    as a reference for scaling the predicted results.\n",
    "    \"\"\"\n",
    "    result = last_value * (series + 1)\n",
    "    return result"
   ]
  },
  {
   "cell_type": "code",
   "execution_count": 12,
   "metadata": {},
   "outputs": [
    {
     "data": {
      "text/plain": [
       "array([2652.9963, 2703.6174, 2842.201 , 2808.9343, 2812.3691, 2852.865 ,\n",
       "       2716.1465], dtype=float32)"
      ]
     },
     "execution_count": 12,
     "metadata": {},
     "output_type": "execute_result"
    }
   ],
   "source": [
    "last_weeks_value = train[train['date'] == train['date'][:-7].max()]['close'].values[0]\n",
    "\n",
    "denormalized_prediction = denormalize(predictions, last_weeks_value)\n",
    "denormalized_prediction"
   ]
  },
  {
   "cell_type": "code",
   "execution_count": 13,
   "metadata": {},
   "outputs": [
    {
     "data": {
      "image/png": "[encoded data removed]",
      "text/plain": [
       "<Figure size 1008x288 with 1 Axes>"
      ]
     },
     "metadata": {},
     "output_type": "display_data"
    }
   ],
   "source": [
    "plt.figure(figsize=(14, 4))\n",
    "\n",
    "plt.plot(train['close'][-7:].values, label='Actual')\n",
    "plt.plot(denormalized_prediction, color='#d35400', label='Predicted')\n",
    "\n",
    "plt.grid()\n",
    "plt.legend();"
   ]
  },
  {
   "cell_type": "code",
   "execution_count": 14,
   "metadata": {},
   "outputs": [
    {
     "data": {
      "image/png": "[encoded data removed]",
      "text/plain": [
       "<Figure size 1008x288 with 1 Axes>"
      ]
     },
     "metadata": {},
     "output_type": "display_data"
    }
   ],
   "source": [
    "prediction_plot = np.zeros(len(train)-2)\n",
    "prediction_plot[:] = np.nan\n",
    "prediction_plot[-7:] = denormalized_prediction\n",
    "\n",
    "plt.figure(figsize=(14, 4))\n",
    "plt.plot(train['close'][-30:].values, label='Actual')\n",
    "plt.plot(prediction_plot[-30:], color='#d35400', linestyle='--', label='Predicted')\n",
    "plt.axvline(30 - 7, color='r', linestyle='--', linewidth=1)\n",
    "\n",
    "plt.grid()\n",
    "plt.legend(loc='lower right');"
   ]
  },
  {
   "cell_type": "code",
   "execution_count": null,
   "metadata": {},
   "outputs": [],
   "source": []
  },
  {
   "cell_type": "code",
   "execution_count": null,
   "metadata": {},
   "outputs": [],
   "source": []
  }
 ],
 "metadata": {
  "kernelspec": {
   "display_name": "ml",
   "language": "python",
   "name": "myenv"
  },
  "language_info": {
   "codemirror_mode": {
    "name": "ipython",
    "version": 3
   },
   "file_extension": ".py",
   "mimetype": "text/x-python",
   "name": "python",
   "nbconvert_exporter": "python",
   "pygments_lexer": "ipython3",
   "version": "3.8.5"
  }
 },
 "nbformat": 4,
 "nbformat_minor": 4
}
